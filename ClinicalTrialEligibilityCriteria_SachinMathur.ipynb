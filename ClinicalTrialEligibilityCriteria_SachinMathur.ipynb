{
  "nbformat": 4,
  "nbformat_minor": 0,
  "metadata": {
    "colab": {
      "name": "PreProcessing.ipynb",
      "version": "0.3.2",
      "provenance": [],
      "collapsed_sections": [],
      "toc_visible": true
    },
    "language_info": {
      "codemirror_mode": {
        "name": "ipython",
        "version": 3
      },
      "file_extension": ".py",
      "mimetype": "text/x-python",
      "name": "python",
      "nbconvert_exporter": "python",
      "pygments_lexer": "ipython3",
      "version": "3.6.4"
    },
    "kernelspec": {
      "name": "python3",
      "display_name": "Python 3"
    },
    "accelerator": "GPU"
  },
  "cells": [
    {
      "cell_type": "code",
      "metadata": {
        "id": "fK7Jk6KOAVKM",
        "colab_type": "code",
        "outputId": "bf4a5058-6128-45a9-fc42-a2dcd19b873a",
        "colab": {
          "base_uri": "https://localhost:8080/",
          "height": 109
        }
      },
      "source": [
        "import nltk\n",
        "nltk.download('punkt')\n",
        "nltk.download('stopwords')\n",
        "import pandas as pd\n",
        "import re\n",
        "import itertools\n",
        "#from grepfunc import grep\n",
        "import numpy as np\n",
        "import matplotlib.pyplot as plt\n",
        "import string\n",
        "import gensim\n",
        "\n",
        "from keras.models import Sequential\n",
        "from keras.layers import *\n",
        "from keras.preprocessing.sequence import pad_sequences\n",
        "from keras.callbacks import EarlyStopping, ModelCheckpoint\n",
        "\n",
        "#Google Colab\n",
        "from google.colab import drive\n",
        "drive.mount('/content/gdrive')"
      ],
      "execution_count": 68,
      "outputs": [
        {
          "output_type": "stream",
          "text": [
            "[nltk_data] Downloading package punkt to /root/nltk_data...\n",
            "[nltk_data]   Package punkt is already up-to-date!\n",
            "[nltk_data] Downloading package stopwords to /root/nltk_data...\n",
            "[nltk_data]   Package stopwords is already up-to-date!\n",
            "Drive already mounted at /content/gdrive; to attempt to forcibly remount, call drive.mount(\"/content/gdrive\", force_remount=True).\n"
          ],
          "name": "stdout"
        }
      ]
    },
    {
      "cell_type": "markdown",
      "metadata": {
        "id": "NuM3zY0NAVLE",
        "colab_type": "text"
      },
      "source": [
        "# Import Data"
      ]
    },
    {
      "cell_type": "code",
      "metadata": {
        "id": "qc4CsEutAVLK",
        "colab_type": "code",
        "outputId": "c22490f5-53c2-420a-935b-82feb7a793db",
        "colab": {
          "base_uri": "https://localhost:8080/",
          "height": 206
        }
      },
      "source": [
        "df = pd.read_csv(\"/content/gdrive/My Drive/Colab Notebooks/forWordEmbedding\",sep='\\t',encoding=\"ISO-8859-1\")\n",
        "df.head()"
      ],
      "execution_count": 69,
      "outputs": [
        {
          "output_type": "execute_result",
          "data": {
            "text/html": [
              "<div>\n",
              "<style scoped>\n",
              "    .dataframe tbody tr th:only-of-type {\n",
              "        vertical-align: middle;\n",
              "    }\n",
              "\n",
              "    .dataframe tbody tr th {\n",
              "        vertical-align: top;\n",
              "    }\n",
              "\n",
              "    .dataframe thead th {\n",
              "        text-align: right;\n",
              "    }\n",
              "</style>\n",
              "<table border=\"1\" class=\"dataframe\">\n",
              "  <thead>\n",
              "    <tr style=\"text-align: right;\">\n",
              "      <th></th>\n",
              "      <th>nct_id</th>\n",
              "      <th>type</th>\n",
              "      <th>txt</th>\n",
              "    </tr>\n",
              "  </thead>\n",
              "  <tbody>\n",
              "    <tr>\n",
              "      <th>0</th>\n",
              "      <td>NCT02194751</td>\n",
              "      <td>inclusion</td>\n",
              "      <td>Normal lactic dehydrogenase</td>\n",
              "    </tr>\n",
              "    <tr>\n",
              "      <th>1</th>\n",
              "      <td>NCT02194751</td>\n",
              "      <td>inclusion</td>\n",
              "      <td>Largest tumor mass &lt; 7 cm</td>\n",
              "    </tr>\n",
              "    <tr>\n",
              "      <th>2</th>\n",
              "      <td>NCT02194751</td>\n",
              "      <td>inclusion</td>\n",
              "      <td>Involvement of &lt; 3 nodal sites with a diameter...</td>\n",
              "    </tr>\n",
              "    <tr>\n",
              "      <th>3</th>\n",
              "      <td>NCT02194751</td>\n",
              "      <td>inclusion</td>\n",
              "      <td>No clinically significant pleural effusion or ...</td>\n",
              "    </tr>\n",
              "    <tr>\n",
              "      <th>4</th>\n",
              "      <td>NCT02194751</td>\n",
              "      <td>inclusion</td>\n",
              "      <td>Spleen size of â¤ 16 cm by CT scan</td>\n",
              "    </tr>\n",
              "  </tbody>\n",
              "</table>\n",
              "</div>"
            ],
            "text/plain": [
              "        nct_id       type                                                txt\n",
              "0  NCT02194751  inclusion                        Normal lactic dehydrogenase\n",
              "1  NCT02194751  inclusion                          Largest tumor mass < 7 cm\n",
              "2  NCT02194751  inclusion  Involvement of < 3 nodal sites with a diameter...\n",
              "3  NCT02194751  inclusion  No clinically significant pleural effusion or ...\n",
              "4  NCT02194751  inclusion                Spleen size of â¤ 16 cm by CT scan"
            ]
          },
          "metadata": {
            "tags": []
          },
          "execution_count": 69
        }
      ]
    },
    {
      "cell_type": "markdown",
      "metadata": {
        "id": "4286HGgjF1kJ",
        "colab_type": "text"
      },
      "source": [
        "Extracting only the inclusion criteria"
      ]
    },
    {
      "cell_type": "code",
      "metadata": {
        "id": "gqrlqRyZAVLv",
        "colab_type": "code",
        "outputId": "46a863b3-ee53-46a1-e585-611b85056ff7",
        "colab": {
          "base_uri": "https://localhost:8080/",
          "height": 35
        }
      },
      "source": [
        "#Convert test to a list so that it can be cleaned\n",
        "#t = df['txt'].tolist()\n",
        "t = df[df.type==\"inclusion\"].txt.tolist()\n",
        "len(t)"
      ],
      "execution_count": 70,
      "outputs": [
        {
          "output_type": "execute_result",
          "data": {
            "text/plain": [
              "64644"
            ]
          },
          "metadata": {
            "tags": []
          },
          "execution_count": 70
        }
      ]
    },
    {
      "cell_type": "markdown",
      "metadata": {
        "id": "neJyNDZNAVMG",
        "colab_type": "text"
      },
      "source": [
        "# Text Processing"
      ]
    },
    {
      "cell_type": "markdown",
      "metadata": {
        "id": "GZ1fgCvb-ItY",
        "colab_type": "text"
      },
      "source": [
        "## Text Cleaning"
      ]
    },
    {
      "cell_type": "markdown",
      "metadata": {
        "id": "eGefNxNmAVMQ",
        "colab_type": "text"
      },
      "source": [
        "\n",
        "\n",
        "### Removing Special Characters, digits & alphanumeric\n",
        "The text is converted to lower case and numeric and alphanumeric words are removed. Further, to remove articles and small numbers, words of length >3 are kept"
      ]
    },
    {
      "cell_type": "code",
      "metadata": {
        "scrolled": true,
        "id": "icemPDEWAVMT",
        "colab_type": "code",
        "colab": {}
      },
      "source": [
        "#convert to lower case\n",
        "txt1 = list(map(lambda x: x.lower(), t))\n",
        "#Keep only non-Alphanumeric [^a-zA-Z0-9_]\n",
        "txt2 = list(map(lambda x: re.sub(r'\\w*\\d\\w*', \" \",x), txt1))\n",
        "txt3 = list(map(lambda x: re.sub(r'[^a-z ]+', '', x), txt2))\n",
        "#txt2 = list(map(lambda x: re.sub('\\W+', \" \",x), txt1))\n",
        "#Remove words < 4 characters\n",
        "txt4 = list(map(lambda x: re.sub(r'\\b\\w{1,3}\\b', '', x),txt3))\n",
        "#Remove Extra Spaces\n",
        "txt5 = list(map(lambda x: re.sub('\\s+', ' ', x).strip(),txt4))"
      ],
      "execution_count": 0,
      "outputs": []
    },
    {
      "cell_type": "code",
      "metadata": {
        "id": "ocJcOYtOAVMk",
        "colab_type": "code",
        "outputId": "6279716c-8d6a-4801-831a-8b0a98c40e55",
        "colab": {
          "base_uri": "https://localhost:8080/",
          "height": 92
        }
      },
      "source": [
        "print(t[90:100])\n",
        "print()\n",
        "print(txt5[90:100])"
      ],
      "execution_count": 72,
      "outputs": [
        {
          "output_type": "stream",
          "text": [
            "['Prior radiation is permitted IF the site(s) of measurable disease has progressed since prior irradiation and radiation is completed at least 2 weeks before initiation of drug treatment (stereotactic radiotherapy excluded)', 'Patients with central nervous system (CNS) metastases are ELIGIBLE, provided that prior to drug treatment, the metastases have been treated, remain clinically or radiographically stable and the patient has no significant neurologic symptoms', 'Patients must NOT have prior malignancy EXCEPT for the following: adequately treated basal cell or squamous cell skin cancer, in situ cervical cancer, adequately treated stage I or II cancer from which the patient is currently in complete remission, or any other cancer from which the patient has been disease-free for >= 3 years', 'Women of child-bearing potential (WOCBP) and men must agree to use adequate contraception (hormonal or barrier method of birth control; abstinence) prior to study entry and for the duration of study participation; should a woman become pregnant or suspect she is pregnant while she or her partner is participating in this study, she should inform her treating physician immediately; WOCBP must provide a negative pregnancy test (serum or urine) within 14 days prior to registration', 'Available archival tumor tissue is NOT mandatory for enrollment (will be requested)', 'Patients must have the ability to understand and the willingness to sign a written informed consent document', '1. Female or male patients with at least 18 years at the time the informed consent is signed', '2.ECOG (Eastern Cooperative Oncology Group)performance status 0 or 1', '3.Histological or cytological confirmed diagnostic of adenocarcinoma of the colon or rectum, with or without primary tumour in situ. Wild-type or mutated KRAS tumor status.', '4.Patients must present a resectable metastatic disease for which the decision of preoperative chemotherapy is considered. Resectability could be planned in one or multiple stage if indicated. As commonly admitted, resectability means the surgical clearance (+/- radiofrequency ablation) of all detectable (liver) lesions with tumor-free margins and compatible with an adequate hepatic reserve. Practically, bilateral tumor location, number and location of lesions, and inadequate hepatic reserve remain the main decisional factors.']\n",
            "\n",
            "['prior radiation permitted sites measurable disease progressed since prior irradiation radiation completed least weeks before initiation drug treatment stereotactic radiotherapy excluded', 'patients with central nervous system metastases eligible provided that prior drug treatment metastases have been treated remain clinically radiographically stable patient significant neurologic symptoms', 'patients must have prior malignancy except following adequately treated basal cell squamous cell skin cancer situ cervical cancer adequately treated stage cancer from which patient currently complete remission other cancer from which patient been diseasefree years', 'women childbearing potential wocbp must agree adequate contraception hormonal barrier method birth control abstinence prior study entry duration study participation should woman become pregnant suspect pregnant while partner participating this study should inform treating physician immediately wocbp must provide negative pregnancy test serum urine within days prior registration', 'available archival tumor tissue mandatory enrollment will requested', 'patients must have ability understand willingness sign written informed consent document', 'female male patients with least years time informed consent signed', 'ecog eastern cooperative oncology groupperformance status', 'histological cytological confirmed diagnostic adenocarcinoma colon rectum with without primary tumour situ wildtype mutated kras tumor status', 'patients must present resectable metastatic disease which decision preoperative chemotherapy considered resectability could planned multiple stage indicated commonly admitted resectability means surgical clearance radiofrequency ablation detectable liver lesions with tumorfree margins compatible with adequate hepatic reserve practically bilateral tumor location number location lesions inadequate hepatic reserve remain main decisional factors']\n"
          ],
          "name": "stdout"
        }
      ]
    },
    {
      "cell_type": "markdown",
      "metadata": {
        "id": "pmDWoKy1AVNJ",
        "colab_type": "text"
      },
      "source": [
        "## Find words with high frequency\n",
        "Remove Stopwords, remove duplicates and Use words that occur with frequency >=5 "
      ]
    },
    {
      "cell_type": "code",
      "metadata": {
        "id": "ZMKeSSSOAVNP",
        "colab_type": "code",
        "outputId": "aa38542a-5737-4b11-a571-2e4375ff9b53",
        "colab": {
          "base_uri": "https://localhost:8080/",
          "height": 54
        }
      },
      "source": [
        "txt5.sort()\n",
        "txt5 = list(txt5 for txt5,_ in itertools.groupby(txt5))\n",
        "\n",
        "q0 = ' '.join(str(elem) for elem in txt5)\n",
        "tokens = nltk.word_tokenize(q0)\n",
        "print(\"Vocabulary Size\",len(set(tokens)))\n",
        "\n",
        "# Calculate frequency distribution\n",
        "fdist = nltk.FreqDist(tokens)\n",
        "tk = []\n",
        "freq = []\n",
        "for word, frequency in fdist.most_common(20000):\n",
        "    tk.append(word)\n",
        "    freq.append(frequency)\n",
        "wf = pd.DataFrame(data = {'tk':tk, 'freq':freq})\n",
        "#Using a cutoff of at least 5 occurrences of the word\n",
        "wf = wf[wf['freq'] >= 5]\n",
        "#print(\"Number of tokens for Embedding\",wf.shape[0])\n",
        "w = wf['tk'].tolist()\n",
        "#remove stop words\n",
        "stopwords = nltk.corpus.stopwords.words('english')\n",
        "w = list(set(w) - set(stopwords))\n",
        "print(\"Number of tokens for Embedding\",len(w))"
      ],
      "execution_count": 73,
      "outputs": [
        {
          "output_type": "stream",
          "text": [
            "Vocabulary Size 21412\n",
            "Number of tokens for Embedding 6438\n"
          ],
          "name": "stdout"
        }
      ]
    },
    {
      "cell_type": "code",
      "metadata": {
        "id": "uaqKwv2sAVOG",
        "colab_type": "code",
        "colab": {}
      },
      "source": [
        "#Converting the text to tokens\n",
        "txt6 = [nltk.word_tokenize(x) for x in txt5]\n",
        "#Restricting text to words that have frequency >=5\n",
        "txt7 = [list(set(x)& set(w)) for x in txt6]"
      ],
      "execution_count": 0,
      "outputs": []
    },
    {
      "cell_type": "markdown",
      "metadata": {
        "id": "PBdxv3LlAVOa",
        "colab_type": "text"
      },
      "source": [
        "## Word Embedding"
      ]
    },
    {
      "cell_type": "code",
      "metadata": {
        "id": "RKcNgESoAVOk",
        "colab_type": "code",
        "colab": {}
      },
      "source": [
        "txt = txt7"
      ],
      "execution_count": 0,
      "outputs": []
    },
    {
      "cell_type": "code",
      "metadata": {
        "id": "27H3jHYaAVPX",
        "colab_type": "code",
        "colab": {}
      },
      "source": [
        "skg = gensim.models.Word2Vec(txt, min_count = 1, size = 100, window = 5, sg = 1)\n",
        "cbow = gensim.models.Word2Vec(txt, min_count = 1, size = 100, window = 5)\n",
        "skg.save('Skipgram_model.bin')\n",
        "cbow.save('CBOW_model.bin')"
      ],
      "execution_count": 0,
      "outputs": []
    },
    {
      "cell_type": "code",
      "metadata": {
        "id": "tOKmGA2eAVPl",
        "colab_type": "code",
        "colab": {}
      },
      "source": [
        ""
      ],
      "execution_count": 0,
      "outputs": []
    },
    {
      "cell_type": "markdown",
      "metadata": {
        "id": "WcX-JdYr2EW_",
        "colab_type": "text"
      },
      "source": [
        "### Looking at the word vector"
      ]
    },
    {
      "cell_type": "code",
      "metadata": {
        "id": "P1ddlsLSAVP8",
        "colab_type": "code",
        "outputId": "e3970416-6c57-472a-eda7-5777dd6c954b",
        "colab": {
          "base_uri": "https://localhost:8080/",
          "height": 570
        }
      },
      "source": [
        "vocab = list(skg.wv.vocab.keys())\n",
        "print(\"Length of the Vocabulary\",len(skg.wv.vocab))\n",
        "print(\"Most simialr words to 'diagnoses' from Skipgram Model\")\n",
        "print(skg.wv.most_similar('diagnoses'))\n",
        "print(\"Most simialr words to 'diagnoses' from CBOW Model\")\n",
        "print(cbow.wv.most_similar('diagnoses'))\n",
        "print(\"Vector for 'dignoses' from Skipgram Model \")\n",
        "skg.wv[\"diagnoses\"]"
      ],
      "execution_count": 77,
      "outputs": [
        {
          "output_type": "stream",
          "text": [
            "Length of the Vocabulary 6438\n",
            "Most simialr words to 'diagnoses' from Skipgram Model\n",
            "[('thrombocythemia', 0.8969748616218567), ('network', 0.8928740620613098), ('promyelocytic', 0.8903131484985352), ('myeloproliferative', 0.8812187910079956), ('indications', 0.8786462545394897), ('supportive', 0.8646965026855469), ('blastic', 0.8628610968589783), ('remitting', 0.8619465827941895), ('comorbidities', 0.860727071762085), ('supply', 0.8595632314682007)]\n",
            "Most simialr words to 'diagnoses' from CBOW Model\n",
            "[('localization', 0.973298966884613), ('federation', 0.9720719456672668), ('file', 0.9701658487319946), ('referred', 0.9675987362861633), ('mitral', 0.9648435115814209), ('network', 0.9632192254066467), ('comorbidities', 0.9631936550140381), ('allele', 0.9612324833869934), ('acquired', 0.9599498510360718), ('cardiopulmonary', 0.9585676193237305)]\n",
            "Vector for 'dignoses' from Skipgram Model \n"
          ],
          "name": "stdout"
        },
        {
          "output_type": "stream",
          "text": [
            "/usr/local/lib/python3.6/dist-packages/gensim/matutils.py:737: FutureWarning: Conversion of the second argument of issubdtype from `int` to `np.signedinteger` is deprecated. In future, it will be treated as `np.int64 == np.dtype(int).type`.\n",
            "  if np.issubdtype(vec.dtype, np.int):\n"
          ],
          "name": "stderr"
        },
        {
          "output_type": "execute_result",
          "data": {
            "text/plain": [
              "array([ 0.06345214, -0.02902411, -0.01325156, -0.1123537 , -0.13185416,\n",
              "       -0.22753051,  0.32078996, -0.07509624,  0.04482954, -0.07770018,\n",
              "       -0.06190049,  0.05187784, -0.12320329,  0.01773018, -0.49712303,\n",
              "       -0.28566912, -0.05874563,  0.10459317, -0.32252246,  0.16874082,\n",
              "        0.01112962,  0.00725362, -0.0033091 , -0.06321248, -0.13547805,\n",
              "       -0.29110652,  0.28118303,  0.04644794,  0.12580507, -0.20349765,\n",
              "        0.28269807,  0.13872042,  0.2724466 ,  0.1004748 ,  0.02625964,\n",
              "       -0.1746121 ,  0.15575375, -0.23441668,  0.17173214,  0.12333573,\n",
              "        0.05317102, -0.2542392 , -0.30159903, -0.238665  , -0.09926843,\n",
              "        0.08124549,  0.06719439,  0.07926536, -0.01822762, -0.38401496,\n",
              "       -0.15577851,  0.15746988, -0.12234024, -0.12144396,  0.17360644,\n",
              "        0.12940146,  0.01766024, -0.11673411,  0.10348218, -0.21754038,\n",
              "        0.08448321,  0.33729723,  0.06999656,  0.19676475,  0.16142781,\n",
              "       -0.02533396, -0.30385673, -0.2981334 ,  0.02822254, -0.4432474 ,\n",
              "        0.185046  ,  0.0299929 ,  0.1509196 ,  0.01860986, -0.07544867,\n",
              "        0.21823125,  0.0434246 , -0.04573781, -0.05650114, -0.23373576,\n",
              "       -0.05947831,  0.33013964, -0.21972954, -0.39966986,  0.07792296,\n",
              "       -0.08449974,  0.09689484,  0.18489808, -0.10224911, -0.02359831,\n",
              "       -0.18196899, -0.04271935, -0.07721977, -0.3752052 , -0.31531423,\n",
              "       -0.10926991,  0.15202387, -0.20876105, -0.114947  ,  0.29413834],\n",
              "      dtype=float32)"
            ]
          },
          "metadata": {
            "tags": []
          },
          "execution_count": 77
        }
      ]
    },
    {
      "cell_type": "markdown",
      "metadata": {
        "id": "7nywycTO2RAA",
        "colab_type": "text"
      },
      "source": [
        "### Visualizing the embedding"
      ]
    },
    {
      "cell_type": "code",
      "metadata": {
        "id": "fEGKYDkhAVQS",
        "colab_type": "code",
        "outputId": "dcb399ee-43bf-4935-9b9a-539bc09b377e",
        "colab": {
          "base_uri": "https://localhost:8080/",
          "height": 344
        }
      },
      "source": [
        "from sklearn.decomposition import PCA\n",
        "from matplotlib import pyplot\n",
        "X = skg[skg.wv.vocab]\n",
        "pca = PCA(n_components=2)\n",
        "result = pca.fit_transform(X)\n",
        "pyplot.scatter(result[:, 0], result[:, 1])"
      ],
      "execution_count": 78,
      "outputs": [
        {
          "output_type": "stream",
          "text": [
            "/usr/local/lib/python3.6/dist-packages/ipykernel_launcher.py:3: DeprecationWarning: Call to deprecated `__getitem__` (Method will be removed in 4.0.0, use self.wv.__getitem__() instead).\n",
            "  This is separate from the ipykernel package so we can avoid doing imports until\n"
          ],
          "name": "stderr"
        },
        {
          "output_type": "execute_result",
          "data": {
            "text/plain": [
              "<matplotlib.collections.PathCollection at 0x7f8d17503278>"
            ]
          },
          "metadata": {
            "tags": []
          },
          "execution_count": 78
        },
        {
          "output_type": "display_data",
          "data": {
            "image/png": "[encoded data removed]",
            "text/plain": [
              "<Figure size 432x288 with 1 Axes>"
            ]
          },
          "metadata": {
            "tags": []
          }
        }
      ]
    },
    {
      "cell_type": "code",
      "metadata": {
        "id": "hZGf3X5nAVQo",
        "colab_type": "code",
        "outputId": "3be2a385-ff2d-4edb-cb64-21e356df4b70",
        "colab": {
          "base_uri": "https://localhost:8080/",
          "height": 147
        }
      },
      "source": [
        "keys = ['diagnoses', 'treatment', 'days', 'criteria', 'pregnant', 'normal',\n",
        "        'female', 'male', 'liver', 'childbearing', 'contraception', 'visit',\n",
        "        'carcinoma', 'cancer', 'drugs']\n",
        "\n",
        "embedding_clusters = []\n",
        "word_clusters = []\n",
        "for word in keys:\n",
        "    embeddings = []\n",
        "    words = []\n",
        "    for similar_word, _ in skg.most_similar(word, topn=30):\n",
        "        words.append(similar_word)\n",
        "        embeddings.append(skg[similar_word])\n",
        "    embedding_clusters.append(embeddings)\n",
        "word_clusters.append(words)"
      ],
      "execution_count": 79,
      "outputs": [
        {
          "output_type": "stream",
          "text": [
            "/usr/local/lib/python3.6/dist-packages/ipykernel_launcher.py:10: DeprecationWarning: Call to deprecated `most_similar` (Method will be removed in 4.0.0, use self.wv.most_similar() instead).\n",
            "  # Remove the CWD from sys.path while we load stuff.\n",
            "/usr/local/lib/python3.6/dist-packages/gensim/matutils.py:737: FutureWarning: Conversion of the second argument of issubdtype from `int` to `np.signedinteger` is deprecated. In future, it will be treated as `np.int64 == np.dtype(int).type`.\n",
            "  if np.issubdtype(vec.dtype, np.int):\n",
            "/usr/local/lib/python3.6/dist-packages/ipykernel_launcher.py:12: DeprecationWarning: Call to deprecated `__getitem__` (Method will be removed in 4.0.0, use self.wv.__getitem__() instead).\n",
            "  if sys.path[0] == '':\n"
          ],
          "name": "stderr"
        }
      ]
    },
    {
      "cell_type": "code",
      "metadata": {
        "id": "KVQ0Nll2AVQ3",
        "colab_type": "code",
        "colab": {}
      },
      "source": [
        "from sklearn.manifold import TSNE\n",
        "embedding_clusters = np.array(embedding_clusters)\n",
        "n, m, k = embedding_clusters.shape\n",
        "tsne_model_en_2d = TSNE(perplexity=15, n_components=2, init='pca', n_iter=3500, random_state=32)\n",
        "embeddings_en_2d = np.array(tsne_model_en_2d.fit_transform(embedding_clusters.reshape(n * m, k))).reshape(n, m, 2)"
      ],
      "execution_count": 0,
      "outputs": []
    },
    {
      "cell_type": "markdown",
      "metadata": {
        "id": "iH049k9-9yZg",
        "colab_type": "text"
      },
      "source": [
        "### Visualizing vectors similar to \"diagnoses\""
      ]
    },
    {
      "cell_type": "code",
      "metadata": {
        "id": "NwJpasK0AVRI",
        "colab_type": "code",
        "outputId": "f5388186-d0f0-49da-a4aa-0836514ba06d",
        "colab": {
          "base_uri": "https://localhost:8080/",
          "height": 591
        }
      },
      "source": [
        "import matplotlib.pyplot as plt\n",
        "import matplotlib.cm as cm\n",
        "% matplotlib inline\n",
        "\n",
        "\n",
        "def tsne_plot_similar_words(title, labels, embedding_clusters, word_clusters, a, filename=None):\n",
        "    plt.figure(figsize=(16, 9))\n",
        "    colors = cm.rainbow(np.linspace(0, 1, len(labels)))\n",
        "    for label, embeddings, words, color in zip(labels, embedding_clusters, word_clusters, colors):\n",
        "        x = embeddings[:, 0]\n",
        "        y = embeddings[:, 1]\n",
        "        plt.scatter(x, y, c=color, alpha=a, label=label)\n",
        "        for i, word in enumerate(words):\n",
        "            plt.annotate(word, alpha=0.5, xy=(x[i], y[i]), xytext=(5, 2),\n",
        "                         textcoords='offset points', ha='right', va='bottom', size=8)\n",
        "    plt.legend(loc=4)\n",
        "    plt.title(title)\n",
        "    plt.grid(True)\n",
        "    if filename:\n",
        "        plt.savefig(filename, format='png', dpi=150, bbox_inches='tight')\n",
        "    plt.show()\n",
        "\n",
        "\n",
        "tsne_plot_similar_words('Words from Embedding', keys, embeddings_en_2d, \n",
        "                        word_clusters, 0.7,'words.png')"
      ],
      "execution_count": 81,
      "outputs": [
        {
          "output_type": "stream",
          "text": [
            "'c' argument looks like a single numeric RGB or RGBA sequence, which should be avoided as value-mapping will have precedence in case its length matches with 'x' & 'y'.  Please use a 2-D array with a single row if you really want to specify the same RGB or RGBA value for all points.\n"
          ],
          "name": "stderr"
        },
        {
          "output_type": "display_data",
          "data": {
            "image/png": "[encoded data removed]",
            "text/plain": [
              "<Figure size 1152x648 with 1 Axes>"
            ]
          },
          "metadata": {
            "tags": []
          }
        }
      ]
    },
    {
      "cell_type": "markdown",
      "metadata": {
        "id": "aB8yIRKD97kk",
        "colab_type": "text"
      },
      "source": [
        "# Classification of Elgibility Criteria realated to Breast Cancer and Alzheimers\n",
        "\n",
        "The training set consists of eligibility criteria for breast cancer and Alzheimer's disease.\n",
        "Using the word embeddings, an LSTM model is trained to distinguish between Breast Cancer and Alzheimer's"
      ]
    },
    {
      "cell_type": "markdown",
      "metadata": {
        "id": "CigbgGdt_Ynm",
        "colab_type": "text"
      },
      "source": [
        "## Read Data"
      ]
    },
    {
      "cell_type": "markdown",
      "metadata": {
        "id": "Xo-Vz4KlLwu_",
        "colab_type": "text"
      },
      "source": [
        "### Training Data"
      ]
    },
    {
      "cell_type": "code",
      "metadata": {
        "id": "QN0058CbAVSM",
        "colab_type": "code",
        "outputId": "d97ee8b2-8eed-42d6-ef9e-d92bcf778add",
        "colab": {
          "base_uri": "https://localhost:8080/",
          "height": 206
        }
      },
      "source": [
        "f = pd.read_csv(\"/content/gdrive/My Drive/Colab Notebooks/TrainingData.txt\",sep='\\t')\n",
        "txt_alz = f[f['disease'].isin(['alz']) & f['type'].isin(['inclusion'])].txt.tolist()\n",
        "txt_bc = f[f['disease'].isin(['bc']) & f['type'].isin(['inclusion'])].txt.tolist()\n",
        "f.head()"
      ],
      "execution_count": 82,
      "outputs": [
        {
          "output_type": "execute_result",
          "data": {
            "text/html": [
              "<div>\n",
              "<style scoped>\n",
              "    .dataframe tbody tr th:only-of-type {\n",
              "        vertical-align: middle;\n",
              "    }\n",
              "\n",
              "    .dataframe tbody tr th {\n",
              "        vertical-align: top;\n",
              "    }\n",
              "\n",
              "    .dataframe thead th {\n",
              "        text-align: right;\n",
              "    }\n",
              "</style>\n",
              "<table border=\"1\" class=\"dataframe\">\n",
              "  <thead>\n",
              "    <tr style=\"text-align: right;\">\n",
              "      <th></th>\n",
              "      <th>nct_id</th>\n",
              "      <th>disease</th>\n",
              "      <th>type</th>\n",
              "      <th>txt</th>\n",
              "    </tr>\n",
              "  </thead>\n",
              "  <tbody>\n",
              "    <tr>\n",
              "      <th>0</th>\n",
              "      <td>NCT00034762</td>\n",
              "      <td>alz</td>\n",
              "      <td>inclusion</td>\n",
              "      <td>A diagnosis of dementia of the Alzheimer's typ...</td>\n",
              "    </tr>\n",
              "    <tr>\n",
              "      <th>1</th>\n",
              "      <td>NCT00034762</td>\n",
              "      <td>alz</td>\n",
              "      <td>exclusion</td>\n",
              "      <td>Disease that could significantly diminish cogn...</td>\n",
              "    </tr>\n",
              "    <tr>\n",
              "      <th>2</th>\n",
              "      <td>NCT00034762</td>\n",
              "      <td>alz</td>\n",
              "      <td>exclusion</td>\n",
              "      <td>history of neuroleptic malignant syndrome</td>\n",
              "    </tr>\n",
              "    <tr>\n",
              "      <th>3</th>\n",
              "      <td>NCT00034762</td>\n",
              "      <td>alz</td>\n",
              "      <td>exclusion</td>\n",
              "      <td>hypersensitivity to risperidone.</td>\n",
              "    </tr>\n",
              "    <tr>\n",
              "      <th>4</th>\n",
              "      <td>NCT00034762</td>\n",
              "      <td>alz</td>\n",
              "      <td>inclusion</td>\n",
              "      <td>Residents of nursing homes or long-term care f...</td>\n",
              "    </tr>\n",
              "  </tbody>\n",
              "</table>\n",
              "</div>"
            ],
            "text/plain": [
              "        nct_id disease       type  \\\n",
              "0  NCT00034762     alz  inclusion   \n",
              "1  NCT00034762     alz  exclusion   \n",
              "2  NCT00034762     alz  exclusion   \n",
              "3  NCT00034762     alz  exclusion   \n",
              "4  NCT00034762     alz  inclusion   \n",
              "\n",
              "                                                 txt  \n",
              "0  A diagnosis of dementia of the Alzheimer's typ...  \n",
              "1  Disease that could significantly diminish cogn...  \n",
              "2          history of neuroleptic malignant syndrome  \n",
              "3                   hypersensitivity to risperidone.  \n",
              "4  Residents of nursing homes or long-term care f...  "
            ]
          },
          "metadata": {
            "tags": []
          },
          "execution_count": 82
        }
      ]
    },
    {
      "cell_type": "markdown",
      "metadata": {
        "id": "kPeYNtWQL1dV",
        "colab_type": "text"
      },
      "source": [
        "### Test Data"
      ]
    },
    {
      "cell_type": "code",
      "metadata": {
        "id": "QdE3UYHlftvV",
        "colab_type": "code",
        "colab": {}
      },
      "source": [
        "f = pd.read_csv(\"/content/gdrive/My Drive/Colab Notebooks/TestData.txt\",sep='\\t',encoding='iso-8859-1')\n",
        "t_alz = f[f['disease'].isin(['alz']) & f['type'].isin(['inclusion'])].txt.tolist()\n",
        "t_bc = f[f['disease'].isin(['bc']) & f['type'].isin(['inclusion'])].txt.tolist()\n"
      ],
      "execution_count": 0,
      "outputs": []
    },
    {
      "cell_type": "markdown",
      "metadata": {
        "id": "Mo4vAsEDdRmi",
        "colab_type": "text"
      },
      "source": [
        "### Clean, Tokenize and filter"
      ]
    },
    {
      "cell_type": "code",
      "metadata": {
        "id": "S9UVuSAbAVTZ",
        "colab_type": "code",
        "colab": {}
      },
      "source": [
        "from itertools import compress\n",
        "def cleanText(t):\n",
        "  \"\"\"\n",
        "  Cleans text and tokenizes the strings\n",
        "  \"\"\"\n",
        "  #convert to lower case\n",
        "  txt1 = list(map(lambda x: x.lower(), t))\n",
        "  #Keep only non-Alphanumeric [^a-zA-Z0-9_]\n",
        "  txt2 = list(map(lambda x: re.sub(r'\\w*\\d\\w*', \" \",x), txt1))\n",
        "  txt3 = list(map(lambda x: re.sub(r'[^a-z ]+', '', x), txt2))\n",
        "  #txt2 = list(map(lambda x: re.sub('\\W+', \" \",x), txt1))\n",
        "  #Remove words < 4 characters\n",
        "  txt4 = list(map(lambda x: re.sub(r'\\b\\w{1,3}\\b', '', x),txt3))\n",
        "  #Remove Extra Spaces\n",
        "  txt5 = list(map(lambda x: re.sub('\\s+', ' ', x).strip(),txt4))\n",
        "  txt6 = [nltk.word_tokenize(x) for x in txt5]\n",
        "  return(txt6)\n",
        "\n",
        "def restrictVocab(t,vocab):\n",
        "  \"\"\"\n",
        "  Restricting the text to tokens in the Word Embedding\n",
        "  \"\"\"\n",
        "  x1 = [list(set(x)& set(vocab)) for x in t]\n",
        "  l = [len(x)>3 for x in x1]\n",
        "  t = list(compress(x1, l))\n",
        "  return(t)\n",
        "  "
      ],
      "execution_count": 0,
      "outputs": []
    },
    {
      "cell_type": "code",
      "metadata": {
        "id": "vxWla6qmeJxw",
        "colab_type": "code",
        "outputId": "7d196bfc-1b99-4f41-cc50-ae2cef2dd995",
        "colab": {
          "base_uri": "https://localhost:8080/",
          "height": 54
        }
      },
      "source": [
        "x = cleanText(txt_alz)\n",
        "alz = restrictVocab(x,vocab)\n",
        "x = cleanText(txt_bc)\n",
        "bc = restrictVocab(x,vocab)\n",
        "print(\"Number of Training samples for Alzheimer's = \",len(alz))\n",
        "print(\"Number of Training samples for Breast Cancer = \",len(bc))"
      ],
      "execution_count": 85,
      "outputs": [
        {
          "output_type": "stream",
          "text": [
            "Number of Training samples for Alzheimer's =  1915\n",
            "Number of Training samples for Breast Cancer =  542\n"
          ],
          "name": "stdout"
        }
      ]
    },
    {
      "cell_type": "code",
      "metadata": {
        "id": "LV4ch1B9mLRn",
        "colab_type": "code",
        "colab": {
          "base_uri": "https://localhost:8080/",
          "height": 54
        },
        "outputId": "f20aab30-2246-4ca7-c971-1ad5a1d8efdf"
      },
      "source": [
        "import random\n",
        "x = cleanText(t_alz)\n",
        "t_alz = restrictVocab(x,vocab)\n",
        "x = cleanText(t_bc)\n",
        "t_bc = restrictVocab(x,vocab)\n",
        "t_bc = random.sample(t_bc, len(t_alz))\n",
        "print(\"Number of Test samples for Alzheimer's = \",len(t_alz))\n",
        "print(\"Number of Test samples for Breast Cancer = \",len(t_bc))"
      ],
      "execution_count": 86,
      "outputs": [
        {
          "output_type": "stream",
          "text": [
            "Number of Test samples for Alzheimer's =  304\n",
            "Number of Test samples for Breast Cancer =  304\n"
          ],
          "name": "stdout"
        }
      ]
    },
    {
      "cell_type": "code",
      "metadata": {
        "id": "IXZA6Li2TDyx",
        "colab_type": "code",
        "colab": {
          "base_uri": "https://localhost:8080/",
          "height": 35
        },
        "outputId": "4537ec1c-b601-4dbd-e892-c589eaf072fe"
      },
      "source": [
        "len(t_bc)"
      ],
      "execution_count": 87,
      "outputs": [
        {
          "output_type": "execute_result",
          "data": {
            "text/plain": [
              "304"
            ]
          },
          "metadata": {
            "tags": []
          },
          "execution_count": 87
        }
      ]
    },
    {
      "cell_type": "markdown",
      "metadata": {
        "id": "DgQD8TsXnlIg",
        "colab_type": "text"
      },
      "source": [
        "## Vectorizing Data\n"
      ]
    },
    {
      "cell_type": "markdown",
      "metadata": {
        "id": "LRMbWH4RFubO",
        "colab_type": "text"
      },
      "source": [
        "### Converting sequences to vectors"
      ]
    },
    {
      "cell_type": "code",
      "metadata": {
        "id": "n_ovzhsdnkEZ",
        "colab_type": "code",
        "colab": {}
      },
      "source": [
        "def word2token(model,word):\n",
        "  \n",
        "  \"\"\"\n",
        "  Given the word, returns the index of the word\n",
        "  \"\"\"\n",
        "  try:\n",
        "    return model.wv.vocab[word].index\n",
        "  except KeyError:\n",
        "    return 0\n",
        "def token2word(model,token):\n",
        "  \n",
        "  \"\"\"\n",
        "  Given an index, retuns the word\n",
        "  \"\"\"\n",
        "  return model.wv.index2word[token]\n",
        "\n",
        "\n",
        "class SequenceIterator:\n",
        "  \n",
        "  \"\"\"\n",
        "  To create vectors from sequences\n",
        "  \"\"\"\n",
        "  def __init__(self, dataset, seq_length,model):\n",
        "    self.dataset = dataset\n",
        "    self.seq_length = seq_length\n",
        "    self.model = model\n",
        "\n",
        "  def __iter__(self):\n",
        "    for news in self.dataset:\n",
        "      words = np.array([word2token(self.model,w) for w in news.split(' ')[:self.seq_length] if w != ''])                   \n",
        "      yield (words)"
      ],
      "execution_count": 0,
      "outputs": []
    },
    {
      "cell_type": "code",
      "metadata": {
        "id": "FhDgSrIRwT_x",
        "colab_type": "code",
        "outputId": "086f8f4e-a25a-4355-c2bd-4e5e0f6750b4",
        "colab": {
          "base_uri": "https://localhost:8080/",
          "height": 54
        }
      },
      "source": [
        "print(word2token(skg,\"diagnoses\"))\n",
        "print(token2word(skg,1684))"
      ],
      "execution_count": 89,
      "outputs": [
        {
          "output_type": "stream",
          "text": [
            "1684\n",
            "diagnoses\n"
          ],
          "name": "stdout"
        }
      ]
    },
    {
      "cell_type": "markdown",
      "metadata": {
        "id": "Lt7JCRBhE_oh",
        "colab_type": "text"
      },
      "source": [
        "#### Training Set"
      ]
    },
    {
      "cell_type": "code",
      "metadata": {
        "id": "CmdEGxZoy7vn",
        "colab_type": "code",
        "outputId": "735ad5b8-9723-4a93-8b71-29a530660dcc",
        "colab": {
          "base_uri": "https://localhost:8080/",
          "height": 90
        }
      },
      "source": [
        "import random\n",
        "MAX_SEQUENCE_LENGTH = 10\n",
        "z1 = [' '.join(elem) for elem in alz]\n",
        "z2 = [' '.join(elem) for elem in bc]\n",
        "z = z1 + z2\n",
        "\n",
        "sequences = SequenceIterator(z, MAX_SEQUENCE_LENGTH,skg)\n",
        "set_x = []\n",
        "for w in sequences:\n",
        "    set_x.append(w)\n",
        "len(z)\n",
        "\n",
        "# Padding sequences with 0.\n",
        "x_train = pad_sequences(set_x, maxlen=MAX_SEQUENCE_LENGTH, padding='pre', value=0)\n",
        "y_train = np.array([0]*len(alz)+[1]*len(bc))\n",
        "print(x_train.shape)\n",
        "print(y_train.shape)\n",
        "\n",
        "VALID_PER = 0.20 # Percentage of the whole set that will be separated for validation\n",
        "\n",
        "total_samples = x_train.shape[0]\n",
        "n_val = int(VALID_PER * total_samples)\n",
        "n_train = total_samples - n_val\n",
        "\n",
        "random_i = random.sample(range(total_samples), total_samples)\n",
        "train_x = x_train[random_i[:n_train]]\n",
        "train_y = y_train[random_i[:n_train]]\n",
        "val_x = x_train[random_i[n_train:n_train+n_val]]\n",
        "val_y = y_train[random_i[n_train:n_train+n_val]]\n",
        "\n",
        "print(\"Train Shapes - X: {} - Y: {}\".format(train_x.shape, train_y.shape))\n",
        "print(\"Val Shapes - X: {} - Y: {}\".format(val_x.shape, val_y.shape))"
      ],
      "execution_count": 90,
      "outputs": [
        {
          "output_type": "stream",
          "text": [
            "(2457, 10)\n",
            "(2457,)\n",
            "Train Shapes - X: (1966, 10) - Y: (1966,)\n",
            "Val Shapes - X: (491, 10) - Y: (491,)\n"
          ],
          "name": "stdout"
        }
      ]
    },
    {
      "cell_type": "markdown",
      "metadata": {
        "id": "V3iMi9GgNSZP",
        "colab_type": "text"
      },
      "source": [
        "#### Test Set"
      ]
    },
    {
      "cell_type": "code",
      "metadata": {
        "id": "elAA-LH5fGnF",
        "colab_type": "code",
        "colab": {
          "base_uri": "https://localhost:8080/",
          "height": 54
        },
        "outputId": "7f755556-67e2-4d48-d2b5-ff6d716aca88"
      },
      "source": [
        "z1 = [' '.join(elem) for elem in t_alz]\n",
        "z2 = [' '.join(elem) for elem in t_bc]\n",
        "z = z1 + z2\n",
        "\n",
        "sequences = SequenceIterator(z, MAX_SEQUENCE_LENGTH,skg)\n",
        "set_x = []\n",
        "for w in sequences:\n",
        "    set_x.append(w)\n",
        "len(z)\n",
        "\n",
        "# Padding sequences with 0.\n",
        "x_test = pad_sequences(set_x, maxlen=MAX_SEQUENCE_LENGTH, padding='pre', value=0)\n",
        "y_test = np.array([0]*len(z1)+[1]*len(z2))\n",
        "print(x_test.shape)\n",
        "print(y_test.shape)"
      ],
      "execution_count": 91,
      "outputs": [
        {
          "output_type": "stream",
          "text": [
            "(608, 10)\n",
            "(608,)\n"
          ],
          "name": "stdout"
        }
      ]
    },
    {
      "cell_type": "markdown",
      "metadata": {
        "id": "IW6hWOb3FDM7",
        "colab_type": "text"
      },
      "source": [
        "## Model"
      ]
    },
    {
      "cell_type": "code",
      "metadata": {
        "id": "q41UoucwHKvl",
        "colab_type": "code",
        "colab": {
          "base_uri": "https://localhost:8080/",
          "height": 35
        },
        "outputId": "de7d6c8d-0399-4a06-ea3e-f162c728b02c"
      },
      "source": [
        "w2v_weights = skg.wv.vectors\n",
        "vocab_size, embedding_size = w2v_weights.shape\n",
        "print(\"Vocabulary Size: {} - Embedding Dim: {}\".format(vocab_size, embedding_size))"
      ],
      "execution_count": 92,
      "outputs": [
        {
          "output_type": "stream",
          "text": [
            "Vocabulary Size: 6438 - Embedding Dim: 100\n"
          ],
          "name": "stdout"
        }
      ]
    },
    {
      "cell_type": "markdown",
      "metadata": {
        "id": "pJTEmZ7SHKLL",
        "colab_type": "text"
      },
      "source": [
        "### Bi-Directional LSTM"
      ]
    },
    {
      "cell_type": "code",
      "metadata": {
        "id": "V9OPjEPww8vg",
        "colab_type": "code",
        "colab": {}
      },
      "source": [
        "m_bi = Sequential()\n",
        "# Keras Embedding layer with Word2Vec weights initialization\n",
        "m_bi.add(Embedding(input_dim=vocab_size,\n",
        "                    output_dim=embedding_size,\n",
        "                    weights=[w2v_weights],\n",
        "                    input_length=MAX_SEQUENCE_LENGTH,\n",
        "                    mask_zero=True,\n",
        "                    trainable=False))\n",
        "\n",
        "m_bi.add(Bidirectional(LSTM(100)))\n",
        "#m_bi.add(Bidirectional(LSTM(100)))\n",
        "m_bi.add(Dense(1, activation='sigmoid'))\n",
        "m_bi.compile(optimizer='adam', loss='binary_crossentropy', metrics=['accuracy'])\n",
        "\n",
        "early_stopping =EarlyStopping(monitor='val_loss', patience=3)\n",
        "bst_model_path = 'biLSTM.h5'\n",
        "model_checkpoint = ModelCheckpoint(bst_model_path, save_best_only=True, save_weights_only=True)\n",
        "his_bi = m_bi.fit(x_train, y_train, epochs=50, batch_size=64,\n",
        "                  validation_data=(val_x, val_y), verbose=False,\n",
        "                  callbacks=[early_stopping, model_checkpoint])"
      ],
      "execution_count": 0,
      "outputs": []
    },
    {
      "cell_type": "markdown",
      "metadata": {
        "id": "nbArc5McXEdT",
        "colab_type": "text"
      },
      "source": [
        "#### Performance on Test Set"
      ]
    },
    {
      "cell_type": "code",
      "metadata": {
        "id": "9SFKyhYTHZQm",
        "colab_type": "code",
        "colab": {
          "base_uri": "https://localhost:8080/",
          "height": 299
        },
        "outputId": "07afe4fe-b188-42f0-a877-a453c2418a48"
      },
      "source": [
        "acc = his_bi.history['acc']\n",
        "val_acc = his_bi.history['val_acc']\n",
        "loss = his_bi.history['loss']\n",
        "val_loss = his_bi.history['val_loss']\n",
        "\n",
        "epochs = range(len(acc))\n",
        "\n",
        "plt.plot(epochs, acc, 'bo', label='Training acc')\n",
        "plt.plot(epochs, val_acc, 'b', label='Validation acc')\n",
        "plt.title('Training and validation accuracy with Bi-Directional LSTM')\n",
        "plt.legend()"
      ],
      "execution_count": 94,
      "outputs": [
        {
          "output_type": "execute_result",
          "data": {
            "text/plain": [
              "<matplotlib.legend.Legend at 0x7f8d150260b8>"
            ]
          },
          "metadata": {
            "tags": []
          },
          "execution_count": 94
        },
        {
          "output_type": "display_data",
          "data": {
            "image/png": "[encoded data removed]",
            "text/plain": [
              "<Figure size 432x288 with 1 Axes>"
            ]
          },
          "metadata": {
            "tags": []
          }
        }
      ]
    },
    {
      "cell_type": "code",
      "metadata": {
        "id": "pFzu-6-QSiKI",
        "colab_type": "code",
        "colab": {
          "base_uri": "https://localhost:8080/",
          "height": 35
        },
        "outputId": "5cbf75d3-38a9-46e8-b62c-836abba3c981"
      },
      "source": [
        "from sklearn.metrics import accuracy_score\n",
        "y = m_bi.predict_classes(x_test)\n",
        "yhat = y[:, 0]\n",
        "biLSTM_acc = accuracy_score(y_test, yhat)\n",
        "print('Bi-Directional LSTM Accuracy: %f' % biLSTM_acc)"
      ],
      "execution_count": 95,
      "outputs": [
        {
          "output_type": "stream",
          "text": [
            "Bi-Directional LSTM Accuracy: 0.930921\n"
          ],
          "name": "stdout"
        }
      ]
    },
    {
      "cell_type": "markdown",
      "metadata": {
        "id": "DTpIIUM9Wmzb",
        "colab_type": "text"
      },
      "source": [
        "### LSTM"
      ]
    },
    {
      "cell_type": "code",
      "metadata": {
        "id": "xwleiFwf6EE1",
        "colab_type": "code",
        "colab": {}
      },
      "source": [
        "m_lstm = Sequential()\n",
        "# Keras Embedding layer with Word2Vec weights initialization\n",
        "m_lstm.add(Embedding(input_dim=vocab_size,\n",
        "                    output_dim=embedding_size,\n",
        "                    weights=[w2v_weights],\n",
        "                    input_length=MAX_SEQUENCE_LENGTH,\n",
        "                    mask_zero=True,\n",
        "                    trainable=False))\n",
        "\n",
        "m_lstm.add(LSTM(100))\n",
        "m_lstm.add(Dense(1, activation='sigmoid'))\n",
        "m_lstm.compile(optimizer='adam', loss='binary_crossentropy', metrics=['accuracy'])\n",
        "\n",
        "early_stopping =EarlyStopping(monitor='val_loss', patience=3)\n",
        "bst_model_path = 'LSTM.h5'\n",
        "model_checkpoint = ModelCheckpoint(bst_model_path, save_best_only=True, save_weights_only=True)\n",
        "his_lstm = m_lstm.fit(x_train, y_train, epochs=50, batch_size=64,\n",
        "                  validation_data=(val_x, val_y), verbose=False,\n",
        "                  callbacks=[early_stopping, model_checkpoint])\n"
      ],
      "execution_count": 0,
      "outputs": []
    },
    {
      "cell_type": "markdown",
      "metadata": {
        "id": "ROrCu1r9XRVE",
        "colab_type": "text"
      },
      "source": [
        "#### Performance on Test Set\n",
        "\n"
      ]
    },
    {
      "cell_type": "code",
      "metadata": {
        "id": "aDkgLJZRXUJG",
        "colab_type": "code",
        "colab": {
          "base_uri": "https://localhost:8080/",
          "height": 299
        },
        "outputId": "dfe38e40-c7ad-4a52-8469-3b10fe90dede"
      },
      "source": [
        "acc = his_lstm.history['acc']\n",
        "val_acc = his_lstm.history['val_acc']\n",
        "loss = his_lstm.history['loss']\n",
        "val_loss = his_lstm.history['val_loss']\n",
        "\n",
        "epochs = range(len(acc))\n",
        "\n",
        "plt.plot(epochs, acc, 'bo', label='Training acc')\n",
        "plt.plot(epochs, val_acc, 'b', label='Validation acc')\n",
        "plt.title('Training and validation accuracy with LSTM')\n",
        "plt.legend()\n",
        "\n",
        "y = m_lstm.predict_classes(x_test)\n",
        "yhat = y[:, 0]\n",
        "LSTM_acc = accuracy_score(y_test, yhat)\n",
        "print('LSTM Accuracy: %f' % LSTM_acc)"
      ],
      "execution_count": 97,
      "outputs": [
        {
          "output_type": "stream",
          "text": [
            "LSTM Accuracy: 0.924342\n"
          ],
          "name": "stdout"
        },
        {
          "output_type": "display_data",
          "data": {
            "image/png": "[encoded data removed]",
            "text/plain": [
              "<Figure size 432x288 with 1 Axes>"
            ]
          },
          "metadata": {
            "tags": []
          }
        }
      ]
    },
    {
      "cell_type": "markdown",
      "metadata": {
        "id": "PumdqmNhYAp5",
        "colab_type": "text"
      },
      "source": [
        "### RNN"
      ]
    },
    {
      "cell_type": "code",
      "metadata": {
        "id": "za4cahps6Kbv",
        "colab_type": "code",
        "colab": {}
      },
      "source": [
        "m_rnn = Sequential()\n",
        "# Keras Embedding layer with Word2Vec weights initialization\n",
        "m_rnn.add(Embedding(input_dim=vocab_size,\n",
        "                    output_dim=embedding_size,\n",
        "                    weights=[w2v_weights],\n",
        "                    input_length=MAX_SEQUENCE_LENGTH,\n",
        "                    mask_zero=True,\n",
        "                    trainable=False))\n",
        "\n",
        "m_rnn.add(SimpleRNN(100))\n",
        "m_rnn.add(Dense(1, activation='sigmoid'))\n",
        "m_rnn.compile(optimizer='adam', loss='binary_crossentropy', metrics=['accuracy'])\n",
        "\n",
        "early_stopping =EarlyStopping(monitor='val_loss', patience=3)\n",
        "bst_model_path = 'RNN.h5'\n",
        "model_checkpoint = ModelCheckpoint(bst_model_path, save_best_only=True, save_weights_only=True)\n",
        "his_rnn = m_rnn.fit(x_train, y_train, epochs=50, batch_size=64,\n",
        "                  validation_data=(val_x, val_y), verbose=False,\n",
        "                  callbacks=[early_stopping, model_checkpoint])\n"
      ],
      "execution_count": 0,
      "outputs": []
    },
    {
      "cell_type": "markdown",
      "metadata": {
        "id": "6Rsl-pDRYN7b",
        "colab_type": "text"
      },
      "source": [
        "#### Performance on Test Set"
      ]
    },
    {
      "cell_type": "code",
      "metadata": {
        "id": "ui3xws84YUOw",
        "colab_type": "code",
        "colab": {
          "base_uri": "https://localhost:8080/",
          "height": 299
        },
        "outputId": "5559ffd0-ddd3-46cb-ac27-5f0ec98c1252"
      },
      "source": [
        "acc = his_rnn.history['acc']\n",
        "val_acc = his_rnn.history['val_acc']\n",
        "loss = his_rnn.history['loss']\n",
        "val_loss = his_rnn.history['val_loss']\n",
        "\n",
        "epochs = range(len(acc))\n",
        "\n",
        "plt.plot(epochs, acc, 'bo', label='Training acc')\n",
        "plt.plot(epochs, val_acc, 'b', label='Validation acc')\n",
        "plt.title('Training and validation accuracy with Simple RNN')\n",
        "plt.legend()\n",
        "\n",
        "y = m_rnn.predict_classes(x_test)\n",
        "yhat = y[:, 0]\n",
        "RNN_acc = accuracy_score(y_test, yhat)\n",
        "print('RNN_accuracy: %f' % RNN_acc)"
      ],
      "execution_count": 99,
      "outputs": [
        {
          "output_type": "stream",
          "text": [
            "RNN_accuracy: 0.884868\n"
          ],
          "name": "stdout"
        },
        {
          "output_type": "display_data",
          "data": {
            "image/png": "[encoded data removed]",
            "text/plain": [
              "<Figure size 432x288 with 1 Axes>"
            ]
          },
          "metadata": {
            "tags": []
          }
        }
      ]
    },
    {
      "cell_type": "markdown",
      "metadata": {
        "id": "n6kAeYpJY778",
        "colab_type": "text"
      },
      "source": [
        "### Without Word Embedding"
      ]
    },
    {
      "cell_type": "code",
      "metadata": {
        "id": "BlDiE2dUeTKw",
        "colab_type": "code",
        "outputId": "1f6fd621-4ff8-46f7-9718-2c8f85a1cbe9",
        "colab": {
          "base_uri": "https://localhost:8080/",
          "height": 1872
        }
      },
      "source": [
        "m_nn = Sequential()\n",
        "# Keras Embedding layer with Word2Vec weights initialization\n",
        "m_nn.add(Embedding(input_dim=vocab_size, output_dim=embedding_size,input_length=MAX_SEQUENCE_LENGTH))\n",
        "m_nn.add(Flatten())\n",
        "m_nn.add(Dense(40,activation='relu'))\n",
        "m_nn.add(Dense(40,activation='relu'))\n",
        "m_nn.add(Dense(1, activation='sigmoid'))\n",
        "m_nn.compile(optimizer='adam', loss='binary_crossentropy', metrics=['accuracy'])\n",
        "\n",
        "his_nn = m_nn.fit(x_train, y_train, epochs=50, batch_size=64,\n",
        "                  validation_data=(val_x, val_y), verbose=1)"
      ],
      "execution_count": 100,
      "outputs": [
        {
          "output_type": "stream",
          "text": [
            "Train on 2457 samples, validate on 491 samples\n",
            "Epoch 1/50\n",
            "2457/2457 [==============================] - 4s 2ms/step - loss: 0.5949 - acc: 0.7306 - val_loss: 0.4656 - val_acc: 0.7760\n",
            "Epoch 2/50\n",
            "2457/2457 [==============================] - 0s 70us/step - loss: 0.3071 - acc: 0.8486 - val_loss: 0.1669 - val_acc: 0.9613\n",
            "Epoch 3/50\n",
            "2457/2457 [==============================] - 0s 68us/step - loss: 0.0841 - acc: 0.9731 - val_loss: 0.0356 - val_acc: 0.9878\n",
            "Epoch 4/50\n",
            "2457/2457 [==============================] - 0s 68us/step - loss: 0.0208 - acc: 0.9931 - val_loss: 0.0116 - val_acc: 0.9959\n",
            "Epoch 5/50\n",
            "2457/2457 [==============================] - 0s 68us/step - loss: 0.0074 - acc: 0.9992 - val_loss: 0.0051 - val_acc: 1.0000\n",
            "Epoch 6/50\n",
            "2457/2457 [==============================] - 0s 76us/step - loss: 0.0046 - acc: 0.9988 - val_loss: 0.0046 - val_acc: 0.9980\n",
            "Epoch 7/50\n",
            "2457/2457 [==============================] - 0s 71us/step - loss: 0.0033 - acc: 0.9996 - val_loss: 0.0112 - val_acc: 0.9959\n",
            "Epoch 8/50\n",
            "2457/2457 [==============================] - 0s 72us/step - loss: 0.0028 - acc: 0.9988 - val_loss: 0.0047 - val_acc: 0.9980\n",
            "Epoch 9/50\n",
            "2457/2457 [==============================] - 0s 76us/step - loss: 0.0021 - acc: 0.9996 - val_loss: 0.0020 - val_acc: 1.0000\n",
            "Epoch 10/50\n",
            "2457/2457 [==============================] - 0s 69us/step - loss: 0.0036 - acc: 0.9992 - val_loss: 0.0054 - val_acc: 0.9980\n",
            "Epoch 11/50\n",
            "2457/2457 [==============================] - 0s 74us/step - loss: 0.0021 - acc: 0.9992 - val_loss: 0.0041 - val_acc: 0.9980\n",
            "Epoch 12/50\n",
            "2457/2457 [==============================] - 0s 68us/step - loss: 0.0015 - acc: 0.9996 - val_loss: 0.0022 - val_acc: 0.9980\n",
            "Epoch 13/50\n",
            "2457/2457 [==============================] - 0s 68us/step - loss: 0.0017 - acc: 0.9992 - val_loss: 5.0466e-04 - val_acc: 1.0000\n",
            "Epoch 14/50\n",
            "2457/2457 [==============================] - 0s 69us/step - loss: 0.0036 - acc: 0.9992 - val_loss: 6.3433e-04 - val_acc: 1.0000\n",
            "Epoch 15/50\n",
            "2457/2457 [==============================] - 0s 69us/step - loss: 0.0021 - acc: 0.9996 - val_loss: 0.0100 - val_acc: 0.9980\n",
            "Epoch 16/50\n",
            "2457/2457 [==============================] - 0s 71us/step - loss: 0.0022 - acc: 0.9996 - val_loss: 0.0012 - val_acc: 1.0000\n",
            "Epoch 17/50\n",
            "2457/2457 [==============================] - 0s 81us/step - loss: 0.0033 - acc: 0.9992 - val_loss: 0.0028 - val_acc: 0.9980\n",
            "Epoch 18/50\n",
            "2457/2457 [==============================] - 0s 69us/step - loss: 5.8363e-04 - acc: 1.0000 - val_loss: 3.2002e-04 - val_acc: 1.0000\n",
            "Epoch 19/50\n",
            "2457/2457 [==============================] - 0s 68us/step - loss: 0.0020 - acc: 0.9996 - val_loss: 0.0065 - val_acc: 0.9980\n",
            "Epoch 20/50\n",
            "2457/2457 [==============================] - 0s 68us/step - loss: 0.0023 - acc: 0.9996 - val_loss: 6.0857e-04 - val_acc: 1.0000\n",
            "Epoch 21/50\n",
            "2457/2457 [==============================] - 0s 70us/step - loss: 0.0042 - acc: 0.9992 - val_loss: 0.0011 - val_acc: 1.0000\n",
            "Epoch 22/50\n",
            "2457/2457 [==============================] - 0s 73us/step - loss: 0.0027 - acc: 0.9992 - val_loss: 3.8159e-04 - val_acc: 1.0000\n",
            "Epoch 23/50\n",
            "2457/2457 [==============================] - 0s 81us/step - loss: 0.0032 - acc: 0.9992 - val_loss: 0.0031 - val_acc: 0.9980\n",
            "Epoch 24/50\n",
            "2457/2457 [==============================] - 0s 74us/step - loss: 0.0019 - acc: 0.9996 - val_loss: 0.0038 - val_acc: 0.9980\n",
            "Epoch 25/50\n",
            "2457/2457 [==============================] - 0s 74us/step - loss: 0.0024 - acc: 0.9992 - val_loss: 0.0040 - val_acc: 0.9980\n",
            "Epoch 26/50\n",
            "2457/2457 [==============================] - 0s 72us/step - loss: 0.0014 - acc: 0.9996 - val_loss: 0.0017 - val_acc: 0.9980\n",
            "Epoch 27/50\n",
            "2457/2457 [==============================] - 0s 69us/step - loss: 0.0013 - acc: 0.9996 - val_loss: 0.0038 - val_acc: 0.9980\n",
            "Epoch 28/50\n",
            "2457/2457 [==============================] - 0s 69us/step - loss: 0.0027 - acc: 0.9992 - val_loss: 5.3134e-04 - val_acc: 1.0000\n",
            "Epoch 29/50\n",
            "2457/2457 [==============================] - 0s 75us/step - loss: 0.0012 - acc: 0.9996 - val_loss: 4.9381e-04 - val_acc: 1.0000\n",
            "Epoch 30/50\n",
            "2457/2457 [==============================] - 0s 70us/step - loss: 0.0013 - acc: 0.9996 - val_loss: 7.3130e-04 - val_acc: 1.0000\n",
            "Epoch 31/50\n",
            "2457/2457 [==============================] - 0s 71us/step - loss: 0.0010 - acc: 0.9996 - val_loss: 0.0016 - val_acc: 0.9980\n",
            "Epoch 32/50\n",
            "2457/2457 [==============================] - 0s 69us/step - loss: 0.0011 - acc: 0.9996 - val_loss: 0.0049 - val_acc: 0.9980\n",
            "Epoch 33/50\n",
            "2457/2457 [==============================] - 0s 68us/step - loss: 0.0012 - acc: 0.9996 - val_loss: 2.9967e-04 - val_acc: 1.0000\n",
            "Epoch 34/50\n",
            "2457/2457 [==============================] - 0s 69us/step - loss: 0.0019 - acc: 0.9996 - val_loss: 0.0071 - val_acc: 0.9980\n",
            "Epoch 35/50\n",
            "2457/2457 [==============================] - 0s 76us/step - loss: 0.0018 - acc: 0.9996 - val_loss: 5.1802e-04 - val_acc: 1.0000\n",
            "Epoch 36/50\n",
            "2457/2457 [==============================] - 0s 68us/step - loss: 0.0020 - acc: 0.9992 - val_loss: 7.4968e-04 - val_acc: 1.0000\n",
            "Epoch 37/50\n",
            "2457/2457 [==============================] - 0s 71us/step - loss: 0.0014 - acc: 0.9996 - val_loss: 0.0058 - val_acc: 0.9980\n",
            "Epoch 38/50\n",
            "2457/2457 [==============================] - 0s 72us/step - loss: 0.0017 - acc: 0.9996 - val_loss: 3.0489e-04 - val_acc: 1.0000\n",
            "Epoch 39/50\n",
            "2457/2457 [==============================] - 0s 68us/step - loss: 0.0016 - acc: 0.9996 - val_loss: 0.0063 - val_acc: 0.9980\n",
            "Epoch 40/50\n",
            "2457/2457 [==============================] - 0s 70us/step - loss: 0.0021 - acc: 0.9992 - val_loss: 0.0024 - val_acc: 0.9980\n",
            "Epoch 41/50\n",
            "2457/2457 [==============================] - 0s 73us/step - loss: 0.0020 - acc: 0.9992 - val_loss: 0.0034 - val_acc: 0.9980\n",
            "Epoch 42/50\n",
            "2457/2457 [==============================] - 0s 68us/step - loss: 0.0015 - acc: 0.9992 - val_loss: 0.0049 - val_acc: 0.9980\n",
            "Epoch 43/50\n",
            "2457/2457 [==============================] - 0s 69us/step - loss: 0.0013 - acc: 0.9996 - val_loss: 3.1873e-04 - val_acc: 1.0000\n",
            "Epoch 44/50\n",
            "2457/2457 [==============================] - 0s 70us/step - loss: 0.0027 - acc: 0.9992 - val_loss: 0.0037 - val_acc: 0.9980\n",
            "Epoch 45/50\n",
            "2457/2457 [==============================] - 0s 69us/step - loss: 0.0019 - acc: 0.9992 - val_loss: 0.0028 - val_acc: 0.9980\n",
            "Epoch 46/50\n",
            "2457/2457 [==============================] - 0s 73us/step - loss: 0.0015 - acc: 0.9996 - val_loss: 0.0027 - val_acc: 0.9980\n",
            "Epoch 47/50\n",
            "2457/2457 [==============================] - 0s 69us/step - loss: 9.2952e-04 - acc: 0.9996 - val_loss: 3.8532e-04 - val_acc: 1.0000\n",
            "Epoch 48/50\n",
            "2457/2457 [==============================] - 0s 70us/step - loss: 0.0012 - acc: 0.9996 - val_loss: 0.0037 - val_acc: 0.9980\n",
            "Epoch 49/50\n",
            "2457/2457 [==============================] - 0s 71us/step - loss: 0.0012 - acc: 0.9996 - val_loss: 2.7931e-04 - val_acc: 1.0000\n",
            "Epoch 50/50\n",
            "2457/2457 [==============================] - 0s 69us/step - loss: 0.0015 - acc: 0.9996 - val_loss: 0.0034 - val_acc: 0.9980\n"
          ],
          "name": "stdout"
        }
      ]
    },
    {
      "cell_type": "markdown",
      "metadata": {
        "id": "iBgHQ7h_ZDjm",
        "colab_type": "text"
      },
      "source": [
        "#### Performance on Test Set"
      ]
    },
    {
      "cell_type": "code",
      "metadata": {
        "id": "pAmqPCU2_Gqh",
        "colab_type": "code",
        "colab": {
          "base_uri": "https://localhost:8080/",
          "height": 35
        },
        "outputId": "fd9c19d2-21f9-4d24-b9c7-b15b366a3d09"
      },
      "source": [
        "y = m_nn.predict_classes(x_test)\n",
        "yhat = y[:, 0]\n",
        "NoEmbed_acc = accuracy_score(y_test, yhat)\n",
        "print('NN_accuracy: %f' % NoEmbed_acc)"
      ],
      "execution_count": 101,
      "outputs": [
        {
          "output_type": "stream",
          "text": [
            "NN_accuracy: 0.896382\n"
          ],
          "name": "stdout"
        }
      ]
    },
    {
      "cell_type": "markdown",
      "metadata": {
        "id": "R4LYSE9BaRNN",
        "colab_type": "text"
      },
      "source": [
        "# Evaluation"
      ]
    },
    {
      "cell_type": "code",
      "metadata": {
        "id": "zrzO7uDgfZWh",
        "colab_type": "code",
        "colab": {
          "base_uri": "https://localhost:8080/",
          "height": 269
        },
        "outputId": "37c2bc30-5351-41b9-978c-96ba7000a181"
      },
      "source": [
        "x = np.arange(4)\n",
        "plt.bar(x,[NoEmbed_acc,RNN_acc,LSTM_acc,biLSTM_acc])\n",
        "plt.xticks(x, ('NoEmbed', 'RNN', 'LSTM', 'biLSTM'))\n",
        "plt.show()"
      ],
      "execution_count": 107,
      "outputs": [
        {
          "output_type": "display_data",
          "data": {
            "image/png": "[encoded data removed]",
            "text/plain": [
              "<Figure size 432x288 with 1 Axes>"
            ]
          },
          "metadata": {
            "tags": []
          }
        }
      ]
    },
    {
      "cell_type": "code",
      "metadata": {
        "id": "cauI60BWfqPc",
        "colab_type": "code",
        "colab": {
          "base_uri": "https://localhost:8080/",
          "height": 90
        },
        "outputId": "92824586-3727-4756-ebee-bbae02ca75c7"
      },
      "source": [
        "print(\"Accuracy without using Word Embedding = \",nn_acc)\n",
        "print(\"Accuracy using Word Embedding + BiDirectional LSTM = \",biLSTM_acc)\n",
        "print(\"Accuracy using Word Embedding + RNN = \",RNN_acc)\n",
        "print(\"Accuracy using Word Embedding + LSTM = \",LSTM_acc)\n"
      ],
      "execution_count": 109,
      "outputs": [
        {
          "output_type": "stream",
          "text": [
            "Accuracy without using Word Embedding =  0.8842105263157894\n",
            "Accuracy using Word Embedding + BiDirectional LSTM =  0.930921052631579\n",
            "Accuracy using Word Embedding + RNN =  0.8848684210526315\n",
            "Accuracy using Word Embedding + LSTM =  0.9243421052631579\n"
          ],
          "name": "stdout"
        }
      ]
    },
    {
      "cell_type": "code",
      "metadata": {
        "id": "l10uUrr6AmqD",
        "colab_type": "code",
        "colab": {}
      },
      "source": [
        ""
      ],
      "execution_count": 0,
      "outputs": []
    }
  ]
}